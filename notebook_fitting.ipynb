{
 "cells": [
  {
   "cell_type": "code",
   "execution_count": 1,
   "metadata": {
    "collapsed": true
   },
   "outputs": [],
   "source": [
    "import pandas as pd\n",
    "import numpy as np\n",
    "\n",
    "from scipy.optimize import minimize\n",
    "\n",
    "from submissions.formulas.GenerateTrees import *"
   ]
  },
  {
   "cell_type": "code",
   "execution_count": 2,
   "metadata": {
    "collapsed": true
   },
   "outputs": [],
   "source": [
    "train_filename = 'chopped_data/train.csv'\n",
    "data = pd.read_csv(train_filename).head(10000)\n",
    "X = data.drop(['target', 'id'], axis=1).values\n",
    "y = data[[\"target\"]].values\n"
   ]
  },
  {
   "cell_type": "code",
   "execution_count": 3,
   "metadata": {},
   "outputs": [
    {
     "name": "stdout",
     "output_type": "stream",
     "text": [
      "Adding feature :  (((C[0]*X[:,3])+(((C[2]*X[:,1])+(C[3]*X[:,0]))+(C[1]*X[:,0])))+C[4])\n"
     ]
    }
   ],
   "source": [
    "tree = generateSingleTree(3)\n",
    "formula = tree.print_tree()\n",
    "n = tree.npar"
   ]
  },
  {
   "cell_type": "code",
   "execution_count": 4,
   "metadata": {
    "collapsed": true
   },
   "outputs": [],
   "source": [
    "def coefficient_error(x):\n",
    "    C = x\n",
    "    XF = eval(formula)\n",
    "    e = y**2 - XF**2\n",
    "    return np.sum(e)"
   ]
  },
  {
   "cell_type": "code",
   "execution_count": null,
   "metadata": {
    "collapsed": true
   },
   "outputs": [],
   "source": []
  },
  {
   "cell_type": "code",
   "execution_count": null,
   "metadata": {
    "collapsed": true
   },
   "outputs": [],
   "source": []
  },
  {
   "cell_type": "code",
   "execution_count": null,
   "metadata": {},
   "outputs": [],
   "source": [
    "x0 = np.array(range(0,n))\n",
    "\n",
    "#res = minimize(coefficient_score, x0,\n",
    "#               method='nelder-mead',\n",
    "#               options={'xtol': 1e-8, 'disp': True})\n",
    "res = minimize(coefficient_error, x0)\n",
    "\n",
    "print(\"formula : \",formula, \", result : \",res)\n"
   ]
  },
  {
   "cell_type": "code",
   "execution_count": null,
   "metadata": {},
   "outputs": [],
   "source": [
    "res.x"
   ]
  },
  {
   "cell_type": "code",
   "execution_count": null,
   "metadata": {},
   "outputs": [],
   "source": [
    "tree.npar"
   ]
  },
  {
   "cell_type": "code",
   "execution_count": null,
   "metadata": {
    "collapsed": true
   },
   "outputs": [],
   "source": []
  },
  {
   "cell_type": "code",
   "execution_count": null,
   "metadata": {},
   "outputs": [],
   "source": [
    "train_filename = 'chopped_data/train.csv'\n",
    "data = pd.read_csv(train_filename).head(5000)\n",
    "X = data.drop(['target'], axis=1).values\n",
    "y = data[[\"target\"]].values\n",
    "x0 = np.array(range(0,n))\n",
    "\n",
    "#res = minimize(coefficient_score, x0,\n",
    "#               method='nelder-mead',\n",
    "#               options={'xtol': 1e-8, 'disp': True})\n",
    "res = minimize(coefficient_error, x0)\n",
    "\n",
    "print(\"formula : \",formula, \", result : \",res)"
   ]
  },
  {
   "cell_type": "code",
   "execution_count": null,
   "metadata": {
    "collapsed": true
   },
   "outputs": [],
   "source": []
  },
  {
   "cell_type": "code",
   "execution_count": null,
   "metadata": {
    "collapsed": true
   },
   "outputs": [],
   "source": []
  },
  {
   "cell_type": "code",
   "execution_count": null,
   "metadata": {},
   "outputs": [],
   "source": [
    "train_filename = 'chopped_data/train.csv'\n",
    "data = pd.read_csv(train_filename).head(2000)\n",
    "X = data.drop(['target'], axis=1).values\n",
    "y = data[[\"target\"]].values\n",
    "x0 = np.array(range(0,n))\n",
    "\n",
    "#res = minimize(coefficient_score, x0,\n",
    "#               method='nelder-mead',\n",
    "#               options={'xtol': 1e-8, 'disp': True})\n",
    "res = minimize(coefficient_error, x0)\n",
    "\n",
    "print(\"formula : \",formula, \", result : \",res)"
   ]
  },
  {
   "cell_type": "code",
   "execution_count": null,
   "metadata": {
    "collapsed": true
   },
   "outputs": [],
   "source": []
  },
  {
   "cell_type": "code",
   "execution_count": null,
   "metadata": {},
   "outputs": [],
   "source": [
    "res.x"
   ]
  },
  {
   "cell_type": "code",
   "execution_count": null,
   "metadata": {
    "collapsed": true
   },
   "outputs": [],
   "source": []
  },
  {
   "cell_type": "code",
   "execution_count": null,
   "metadata": {
    "collapsed": true
   },
   "outputs": [],
   "source": []
  },
  {
   "cell_type": "code",
   "execution_count": null,
   "metadata": {},
   "outputs": [],
   "source": [
    "train_filename = 'chopped_data/train.csv'\n",
    "data = pd.read_csv(train_filename).head(1000)\n",
    "X = data.drop(['target'], axis=1).values\n",
    "y = data[[\"target\"]].values\n",
    "x0 = np.array(range(0,n))\n",
    "\n",
    "#res = minimize(coefficient_score, x0,\n",
    "#               method='nelder-mead',\n",
    "#               options={'xtol': 1e-8, 'disp': True})\n",
    "res = minimize(coefficient_error, x0)\n",
    "\n",
    "print(\"formula : \",formula, \", result : \",res)"
   ]
  },
  {
   "cell_type": "code",
   "execution_count": null,
   "metadata": {},
   "outputs": [],
   "source": [
    "res.success"
   ]
  },
  {
   "cell_type": "code",
   "execution_count": null,
   "metadata": {},
   "outputs": [],
   "source": [
    "res.x"
   ]
  },
  {
   "cell_type": "code",
   "execution_count": null,
   "metadata": {
    "collapsed": true
   },
   "outputs": [],
   "source": []
  },
  {
   "cell_type": "code",
   "execution_count": null,
   "metadata": {
    "collapsed": true
   },
   "outputs": [],
   "source": []
  },
  {
   "cell_type": "code",
   "execution_count": null,
   "metadata": {
    "collapsed": true
   },
   "outputs": [],
   "source": []
  },
  {
   "cell_type": "code",
   "execution_count": null,
   "metadata": {
    "collapsed": true
   },
   "outputs": [],
   "source": []
  },
  {
   "cell_type": "code",
   "execution_count": null,
   "metadata": {
    "collapsed": true
   },
   "outputs": [],
   "source": []
  },
  {
   "cell_type": "code",
   "execution_count": null,
   "metadata": {
    "collapsed": true
   },
   "outputs": [],
   "source": []
  },
  {
   "cell_type": "code",
   "execution_count": null,
   "metadata": {
    "collapsed": true
   },
   "outputs": [],
   "source": []
  },
  {
   "cell_type": "code",
   "execution_count": null,
   "metadata": {
    "collapsed": true
   },
   "outputs": [],
   "source": []
  },
  {
   "cell_type": "code",
   "execution_count": null,
   "metadata": {
    "collapsed": true
   },
   "outputs": [],
   "source": []
  },
  {
   "cell_type": "code",
   "execution_count": 12,
   "metadata": {},
   "outputs": [
    {
     "name": "stdout",
     "output_type": "stream",
     "text": [
      "Adding feature :  (((C[0]*X[:,2])+((C[1]*X[:,4])*((C[2]*X[:,1])+((C[3]*X[:,1])+((C[4]*X[:,3])-(C[5]*X[:,0]))))))+C[6])\n",
      "Warning: Maximum number of function evaluations has been exceeded.\n",
      "formula :  (((C[0]*X[:,2])+((C[1]*X[:,4])*((C[2]*X[:,1])+((C[3]*X[:,1])+((C[4]*X[:,3])-(C[5]*X[:,0]))))))+C[6]) , result :   final_simplex: (array([[  2.01377127e+42,   4.31165243e+44,  -1.00440595e+45,\n",
      "         -2.45401963e+44,  -1.38500804e+45,   2.68994587e+45,\n",
      "         -1.20355657e+45],\n",
      "       [  1.92796737e+42,   4.12793911e+44,  -9.61609657e+44,\n",
      "         -2.34945738e+44,  -1.32599484e+45,   2.57533114e+45,\n",
      "         -1.15227476e+45],\n",
      "       [  1.91044174e+42,   4.09041529e+44,  -9.52868426e+44,\n",
      "         -2.32810033e+44,  -1.31394127e+45,   2.55192085e+45,\n",
      "         -1.14180034e+45],\n",
      "       [  1.48583515e+42,   3.18129713e+44,  -7.41087975e+44,\n",
      "         -1.81066673e+44,  -1.02191032e+45,   1.98474186e+45,\n",
      "         -8.88028692e+44],\n",
      "       [  1.42252585e+42,   3.04574663e+44,  -7.09511281e+44,\n",
      "         -1.73351682e+44,  -9.78368189e+44,   1.90017486e+45,\n",
      "         -8.50191065e+44],\n",
      "       [  1.40959480e+42,   3.01806016e+44,  -7.03061677e+44,\n",
      "         -1.71775880e+44,  -9.69474620e+44,   1.88290188e+45,\n",
      "         -8.42462652e+44],\n",
      "       [  1.09630430e+42,   2.34727905e+44,  -5.46802203e+44,\n",
      "         -1.33597709e+44,  -7.54003348e+44,   1.46441618e+45,\n",
      "         -6.55220515e+44],\n",
      "       [  1.04959235e+42,   2.24726486e+44,  -5.23503747e+44,\n",
      "         -1.27905303e+44,  -7.21876348e+44,   1.40201951e+45,\n",
      "         -6.27302510e+44]]), array([ -1.67201487e+197,  -1.40474757e+197,  -1.35436204e+197,\n",
      "        -4.95543853e+196,  -4.16332436e+196,  -4.01399410e+196,\n",
      "        -1.46866941e+196,  -1.23390636e+196]))\n",
      "           fun: -1.6720148747748428e+197\n",
      "       message: 'Maximum number of function evaluations has been exceeded.'\n",
      "          nfev: 1400\n",
      "           nit: 1045\n",
      "        status: 1\n",
      "       success: False\n",
      "             x: array([  2.01377127e+42,   4.31165243e+44,  -1.00440595e+45,\n",
      "        -2.45401963e+44,  -1.38500804e+45,   2.68994587e+45,\n",
      "        -1.20355657e+45])\n"
     ]
    }
   ],
   "source": [
    "tree = generateSingleTree(5)\n",
    "formula = tree.print_tree()\n",
    "n = tree.npar\n",
    "\n",
    "x0 = np.array(range(0,n))\n",
    "\n",
    "res = minimize(coefficient_error, x0,\n",
    "               method='nelder-mead',\n",
    "               options={'xtol': 1e-8, 'disp': True})\n",
    "print(\"formula : \",formula, \", result : \",res)\n"
   ]
  },
  {
   "cell_type": "code",
   "execution_count": null,
   "metadata": {
    "collapsed": true
   },
   "outputs": [],
   "source": []
  },
  {
   "cell_type": "code",
   "execution_count": null,
   "metadata": {
    "collapsed": true
   },
   "outputs": [],
   "source": [
    "tree = generateSingleTree(3)\n",
    "formula = tree.print_tree()\n",
    "n = tree.npar\n",
    "\n",
    "x0 = np.array(range(0,n))\n",
    "\n",
    "res = minimize(coefficient_error, x0,\n",
    "               method='nelder-mead',\n",
    "               options={'xtol': 1e-8, 'disp': True})\n",
    "print(\"formula : \",formula, \", result : \",res)\n"
   ]
  },
  {
   "cell_type": "code",
   "execution_count": null,
   "metadata": {
    "collapsed": true
   },
   "outputs": [],
   "source": []
  },
  {
   "cell_type": "code",
   "execution_count": null,
   "metadata": {
    "collapsed": true
   },
   "outputs": [],
   "source": []
  },
  {
   "cell_type": "code",
   "execution_count": null,
   "metadata": {
    "collapsed": true
   },
   "outputs": [],
   "source": []
  }
 ],
 "metadata": {
  "kernelspec": {
   "display_name": "Python 3",
   "language": "python",
   "name": "python3"
  },
  "language_info": {
   "codemirror_mode": {
    "name": "ipython",
    "version": 3
   },
   "file_extension": ".py",
   "mimetype": "text/x-python",
   "name": "python",
   "nbconvert_exporter": "python",
   "pygments_lexer": "ipython3",
   "version": "3.6.1"
  }
 },
 "nbformat": 4,
 "nbformat_minor": 2
}
