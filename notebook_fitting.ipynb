{
 "cells": [
  {
   "cell_type": "code",
   "execution_count": 1,
   "metadata": {
    "collapsed": true
   },
   "outputs": [],
   "source": [
    "import pandas as pd\n",
    "import numpy as np\n",
    "\n",
    "from scipy.optimize import minimize\n",
    "\n",
    "from submissions.formulas.GenerateTrees import *"
   ]
  },
  {
   "cell_type": "code",
   "execution_count": 8,
   "metadata": {
    "collapsed": true
   },
   "outputs": [],
   "source": [
    "train_filename = 'chopped_data/train.csv'\n",
    "data = pd.read_csv(train_filename).head(50000)\n",
    "X = data.drop(['target'], axis=1).values\n",
    "y = data[[\"target\"]].values\n"
   ]
  },
  {
   "cell_type": "code",
   "execution_count": 3,
   "metadata": {},
   "outputs": [
    {
     "name": "stdout",
     "output_type": "stream",
     "text": [
      "Adding feature :  (((((C[6]*X[:,5])*((C[7]*X[:,1])-(C[8]*X[:,4])))+((C[1]*X[:,3])-((C[2]*X[:,4])-((C[3]*X[:,3])*((C[4]*X[:,4])+(C[5]*X[:,4]))))))-(C[0]*X[:,0]))+C[9])\n"
     ]
    }
   ],
   "source": [
    "tree = generateSingleTree(8)\n",
    "formula = tree.print_tree()\n",
    "n = tree.npar"
   ]
  },
  {
   "cell_type": "code",
   "execution_count": 4,
   "metadata": {
    "collapsed": true
   },
   "outputs": [],
   "source": [
    "def coefficient_score(x):\n",
    "    C = x\n",
    "    XF = eval(formula)\n",
    "    e = y**2 - XF**2\n",
    "    return np.sum(e)"
   ]
  },
  {
   "cell_type": "code",
   "execution_count": null,
   "metadata": {
    "collapsed": true
   },
   "outputs": [],
   "source": []
  },
  {
   "cell_type": "code",
   "execution_count": null,
   "metadata": {
    "collapsed": true
   },
   "outputs": [],
   "source": []
  },
  {
   "cell_type": "code",
   "execution_count": null,
   "metadata": {},
   "outputs": [],
   "source": [
    "x0 = np.array(range(0,n))\n",
    "\n",
    "#res = minimize(coefficient_score, x0,\n",
    "#               method='nelder-mead',\n",
    "#               options={'xtol': 1e-8, 'disp': True})\n",
    "res = minimize(coefficient_score, x0)\n",
    "\n",
    "print(\"formula : \",formula, \", result : \",res)\n"
   ]
  },
  {
   "cell_type": "code",
   "execution_count": null,
   "metadata": {},
   "outputs": [],
   "source": [
    "x0"
   ]
  },
  {
   "cell_type": "code",
   "execution_count": null,
   "metadata": {},
   "outputs": [],
   "source": [
    "tree.npar"
   ]
  },
  {
   "cell_type": "code",
   "execution_count": null,
   "metadata": {
    "collapsed": true
   },
   "outputs": [],
   "source": []
  },
  {
   "cell_type": "code",
   "execution_count": null,
   "metadata": {
    "collapsed": true
   },
   "outputs": [],
   "source": [
    "train_filename = 'chopped_data/train.csv'\n",
    "data = pd.read_csv(train_filename).head(50000)\n",
    "X = data.drop(['target'], axis=1).values\n",
    "y = data[[\"target\"]].values\n",
    "x0 = np.array(range(0,n))\n",
    "\n",
    "#res = minimize(coefficient_score, x0,\n",
    "#               method='nelder-mead',\n",
    "#               options={'xtol': 1e-8, 'disp': True})\n",
    "res = minimize(coefficient_score, x0)\n",
    "\n",
    "print(\"formula : \",formula, \", result : \",res)"
   ]
  },
  {
   "cell_type": "code",
   "execution_count": null,
   "metadata": {
    "collapsed": true
   },
   "outputs": [],
   "source": []
  },
  {
   "cell_type": "code",
   "execution_count": null,
   "metadata": {
    "collapsed": true
   },
   "outputs": [],
   "source": []
  },
  {
   "cell_type": "code",
   "execution_count": null,
   "metadata": {
    "collapsed": true
   },
   "outputs": [],
   "source": [
    "train_filename = 'chopped_data/train.csv'\n",
    "data = pd.read_csv(train_filename).head(20000)\n",
    "X = data.drop(['target'], axis=1).values\n",
    "y = data[[\"target\"]].values\n",
    "x0 = np.array(range(0,n))\n",
    "\n",
    "#res = minimize(coefficient_score, x0,\n",
    "#               method='nelder-mead',\n",
    "#               options={'xtol': 1e-8, 'disp': True})\n",
    "res = minimize(coefficient_score, x0)\n",
    "\n",
    "print(\"formula : \",formula, \", result : \",res)"
   ]
  },
  {
   "cell_type": "code",
   "execution_count": null,
   "metadata": {
    "collapsed": true
   },
   "outputs": [],
   "source": []
  },
  {
   "cell_type": "code",
   "execution_count": null,
   "metadata": {
    "collapsed": true
   },
   "outputs": [],
   "source": [
    "train_filename = 'chopped_data/train.csv'\n",
    "data = pd.read_csv(train_filename).head(10000)\n",
    "X = data.drop(['target'], axis=1).values\n",
    "y = data[[\"target\"]].values\n",
    "x0 = np.array(range(0,n))\n",
    "\n",
    "#res = minimize(coefficient_score, x0,\n",
    "#               method='nelder-mead',\n",
    "#               options={'xtol': 1e-8, 'disp': True})\n",
    "res = minimize(coefficient_score, x0)\n",
    "\n",
    "print(\"formula : \",formula, \", result : \",res)"
   ]
  },
  {
   "cell_type": "code",
   "execution_count": null,
   "metadata": {
    "collapsed": true
   },
   "outputs": [],
   "source": []
  },
  {
   "cell_type": "code",
   "execution_count": null,
   "metadata": {
    "collapsed": true
   },
   "outputs": [],
   "source": []
  },
  {
   "cell_type": "code",
   "execution_count": null,
   "metadata": {
    "collapsed": true
   },
   "outputs": [],
   "source": []
  },
  {
   "cell_type": "code",
   "execution_count": null,
   "metadata": {
    "collapsed": true
   },
   "outputs": [],
   "source": []
  },
  {
   "cell_type": "code",
   "execution_count": null,
   "metadata": {
    "collapsed": true
   },
   "outputs": [],
   "source": []
  },
  {
   "cell_type": "code",
   "execution_count": null,
   "metadata": {},
   "outputs": [
    {
     "name": "stdout",
     "output_type": "stream",
     "text": [
      "Adding feature :  ((((((C[4]*X[:,3])+(C[5]*X[:,4]))+((C[2]*X[:,5])-(C[3]*X[:,0])))+(C[1]*X[:,2]))*(C[0]*X[:,0]))+C[6])\n"
     ]
    }
   ],
   "source": [
    "tree = generateSingleTree(5)\n",
    "formula = tree.print_tree()\n",
    "n = tree.npar\n",
    "\n",
    "x0 = np.array(range(0,n))\n",
    "\n",
    "res = minimize(coefficient_score, x0,\n",
    "               method='nelder-mead',\n",
    "               options={'xtol': 1e-8, 'disp': True})\n",
    "print(\"formula : \",formula, \", result : \",res)\n"
   ]
  },
  {
   "cell_type": "code",
   "execution_count": null,
   "metadata": {
    "collapsed": true
   },
   "outputs": [],
   "source": []
  },
  {
   "cell_type": "code",
   "execution_count": null,
   "metadata": {
    "collapsed": true
   },
   "outputs": [],
   "source": [
    "tree = generateSingleTree(3)\n",
    "formula = tree.print_tree()\n",
    "n = tree.npar\n",
    "\n",
    "x0 = np.array(range(0,n))\n",
    "\n",
    "res = minimize(coefficient_score, x0,\n",
    "               method='nelder-mead',\n",
    "               options={'xtol': 1e-8, 'disp': True})\n",
    "print(\"formula : \",formula, \", result : \",res)\n"
   ]
  },
  {
   "cell_type": "code",
   "execution_count": null,
   "metadata": {
    "collapsed": true
   },
   "outputs": [],
   "source": []
  },
  {
   "cell_type": "code",
   "execution_count": null,
   "metadata": {
    "collapsed": true
   },
   "outputs": [],
   "source": []
  },
  {
   "cell_type": "code",
   "execution_count": null,
   "metadata": {
    "collapsed": true
   },
   "outputs": [],
   "source": []
  }
 ],
 "metadata": {
  "kernelspec": {
   "display_name": "Python 3",
   "language": "python",
   "name": "python3"
  },
  "language_info": {
   "codemirror_mode": {
    "name": "ipython",
    "version": 3
   },
   "file_extension": ".py",
   "mimetype": "text/x-python",
   "name": "python",
   "nbconvert_exporter": "python",
   "pygments_lexer": "ipython3",
   "version": "3.6.1"
  }
 },
 "nbformat": 4,
 "nbformat_minor": 2
}
