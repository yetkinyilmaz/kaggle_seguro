{
 "cells": [
  {
   "cell_type": "code",
   "execution_count": 1,
   "metadata": {
    "collapsed": true
   },
   "outputs": [],
   "source": [
    "import pandas as pd\n",
    "import numpy as np\n",
    "\n",
    "from scipy.optimize import minimize\n",
    "\n",
    "from submissions.formulas.GenerateTrees import *"
   ]
  },
  {
   "cell_type": "code",
   "execution_count": 2,
   "metadata": {},
   "outputs": [],
   "source": [
    "train_filename = 'chopped_data/train.csv'\n",
    "data = pd.read_csv(train_filename).head(1000)\n",
    "X = data.drop(['target'], axis=1).values\n",
    "y = data[[\"target\"]].values\n"
   ]
  },
  {
   "cell_type": "code",
   "execution_count": null,
   "metadata": {},
   "outputs": [],
   "source": []
  },
  {
   "cell_type": "code",
   "execution_count": 3,
   "metadata": {
    "collapsed": true
   },
   "outputs": [],
   "source": [
    "def coefficient_score(x):\n",
    "    C = x\n",
    "    XF = eval(formula)\n",
    "    e = y**2 - XF**2\n",
    "    return np.sum(e)\n"
   ]
  },
  {
   "cell_type": "code",
   "execution_count": null,
   "metadata": {},
   "outputs": [],
   "source": []
  },
  {
   "cell_type": "code",
   "execution_count": null,
   "metadata": {},
   "outputs": [],
   "source": []
  },
  {
   "cell_type": "code",
   "execution_count": 4,
   "metadata": {},
   "outputs": [
    {
     "name": "stdout",
     "output_type": "stream",
     "text": [
      "Adding feature :  ((((C[0]*X[:,2])*(C[1]*X[:,3]))*(((C[4]*X[:,4])-(C[5]*X[:,3]))+((C[2]*X[:,5])+(C[3]*X[:,1]))))+C[6])\n",
      "Warning: Maximum number of function evaluations has been exceeded.\n",
      "formula :  ((((C[0]*X[:,2])*(C[1]*X[:,3]))*(((C[4]*X[:,4])-(C[5]*X[:,3]))+((C[2]*X[:,5])+(C[3]*X[:,1]))))+C[6]) , result :   final_simplex: (array([[ -5.49292788e+14,   1.01602693e+17,   2.02337614e+16, ...,\n",
      "          4.21576228e+17,  -4.34404531e+18,  -8.32361314e+18],\n",
      "       [ -5.44061462e+14,   1.00635054e+17,   2.00410601e+16, ...,\n",
      "          4.17561242e+17,  -4.30267372e+18,  -8.24434114e+18],\n",
      "       [ -5.41613049e+14,   1.00182171e+17,   1.99508703e+16, ...,\n",
      "          4.15682111e+17,  -4.28331061e+18,  -8.20723954e+18],\n",
      "       ..., \n",
      "       [ -4.41854749e+14,   8.17298774e+16,   1.62761714e+16, ...,\n",
      "          3.39118703e+17,  -3.49437876e+18,  -6.69556941e+18],\n",
      "       [ -4.39351436e+14,   8.12668396e+16,   1.61839593e+16, ...,\n",
      "          3.37197438e+17,  -3.47458147e+18,  -6.65763589e+18],\n",
      "       [ -4.34769155e+14,   8.04192551e+16,   1.60151663e+16, ...,\n",
      "          3.33680587e+17,  -3.43834281e+18,  -6.58819910e+18]]), array([ -4.31031439e+106,  -4.06980266e+106,  -3.96114081e+106,\n",
      "        -3.79806283e+106,  -3.67078535e+106,  -3.44696849e+106,\n",
      "        -3.40645583e+106,  -3.25062161e+106,  -3.16027506e+106,\n",
      "        -3.04275268e+106,  -3.04235130e+106,  -2.85485367e+106,\n",
      "        -2.79651251e+106,  -2.67710845e+106,  -2.59383661e+106,\n",
      "        -2.39001294e+106,  -2.38537690e+106,  -2.25669615e+106,\n",
      "        -2.19644451e+106,  -2.10601925e+106,  -2.03546111e+106,\n",
      "        -1.91133582e+106,  -1.88886870e+106,  -1.80246157e+106,\n",
      "        -1.75236475e+106,  -1.68723548e+106,  -1.68697589e+106,\n",
      "        -1.58300829e+106,  -1.55066012e+106,  -1.48444960e+106,\n",
      "        -1.43827521e+106,  -1.32527457e+106,  -1.32268871e+106,\n",
      "        -1.25133606e+106,  -1.21792517e+106,  -1.16778455e+106,\n",
      "        -1.12864631e+106,  -1.05983417e+106]))\n",
      "           fun: -4.310314393927182e+106\n",
      "       message: 'Maximum number of function evaluations has been exceeded.'\n",
      "          nfev: 7400\n",
      "           nit: 6936\n",
      "        status: 1\n",
      "       success: False\n",
      "             x: array([ -5.49292788e+14,   1.01602693e+17,   2.02337614e+16,\n",
      "         1.93424220e+17,  -1.02677130e+17,   4.58923392e+16,\n",
      "         1.78551406e+18,   2.41252105e+17,   1.38899332e+16,\n",
      "        -4.67609838e+17,  -4.00426731e+17,  -3.12954633e+17,\n",
      "         8.24156313e+17,  -6.62163253e+15,   1.31657259e+18,\n",
      "        -1.94728895e+17,  -3.67905706e+18,   8.58274423e+17,\n",
      "        -1.43176142e+18,  -7.13277071e+17,   1.16031622e+18,\n",
      "         1.32738406e+18,   5.73600589e+17,  -9.28195661e+17,\n",
      "         1.34436032e+18,   9.13301969e+17,   1.81775580e+18,\n",
      "         1.41274512e+18,   2.69829407e+18,   1.05380541e+18,\n",
      "        -9.43129078e+17,   8.22579284e+17,  -3.17617411e+18,\n",
      "        -2.79820807e+18,   4.21576228e+17,  -4.34404531e+18,\n",
      "        -8.32361314e+18])\n"
     ]
    }
   ],
   "source": [
    "tree = generateSingleTree(5)\n",
    "formula = tree.print_tree()\n",
    "n = tree.npar\n",
    "\n",
    "x0 = np.array(range(0,n))\n",
    "\n",
    "res = minimize(coefficient_score, x0,\n",
    "               method='nelder-mead',\n",
    "               options={'xtol': 1e-8, 'disp': True})\n",
    "print(\"formula : \",formula, \", result : \",res)\n"
   ]
  },
  {
   "cell_type": "code",
   "execution_count": null,
   "metadata": {
    "collapsed": true
   },
   "outputs": [],
   "source": []
  },
  {
   "cell_type": "code",
   "execution_count": null,
   "metadata": {
    "collapsed": true
   },
   "outputs": [],
   "source": []
  },
  {
   "cell_type": "code",
   "execution_count": null,
   "metadata": {
    "collapsed": true
   },
   "outputs": [],
   "source": []
  },
  {
   "cell_type": "code",
   "execution_count": null,
   "metadata": {
    "collapsed": true
   },
   "outputs": [],
   "source": []
  },
  {
   "cell_type": "code",
   "execution_count": null,
   "metadata": {
    "collapsed": true
   },
   "outputs": [],
   "source": []
  }
 ],
 "metadata": {
  "kernelspec": {
   "display_name": "Python 3",
   "language": "python",
   "name": "python3"
  },
  "language_info": {
   "codemirror_mode": {
    "name": "ipython",
    "version": 3
   },
   "file_extension": ".py",
   "mimetype": "text/x-python",
   "name": "python",
   "nbconvert_exporter": "python",
   "pygments_lexer": "ipython3",
   "version": "3.6.1"
  }
 },
 "nbformat": 4,
 "nbformat_minor": 2
}
