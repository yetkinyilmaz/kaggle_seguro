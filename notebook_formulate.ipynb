{
 "cells": [
  {
   "cell_type": "code",
   "execution_count": 1,
   "metadata": {},
   "outputs": [],
   "source": [
    "from submissions.formulas.formulate import *"
   ]
  },
  {
   "cell_type": "code",
   "execution_count": 2,
   "metadata": {},
   "outputs": [
    {
     "name": "stdout",
     "output_type": "stream",
     "text": [
      "x + p[1]* \n",
      "x + p[2]* \n",
      "x + p[3]* \n",
      "x *  \n",
      "x *  \n",
      "x + p[4]* \n",
      "x + p[5]* \n",
      "x *  \n",
      "x *  \n",
      "x + p[6]* \n",
      "x + p[7]* \n",
      "x + p[8]* \n",
      "x *  \n",
      "x *  \n",
      "x *  \n",
      "x + p[9]* \n",
      "x + p[10]* \n",
      "x + p[11]* \n",
      "x + p[12]* \n",
      "x + p[13]* \n",
      "x + p[14]* \n"
     ]
    }
   ],
   "source": [
    "f = test()"
   ]
  },
  {
   "cell_type": "code",
   "execution_count": 3,
   "metadata": {},
   "outputs": [
    {
     "data": {
      "text/plain": [
       "'p[0]+x+p[1]*x+p[2]*x+p[3]*x*x*x+p[4]*x+p[5]*x*x*x+p[6]*x+p[7]*x+p[8]*x*x*x*x+p[9]*x+p[10]*x+p[11]*x+p[12]*x+p[13]*x+p[14]*'"
      ]
     },
     "execution_count": 3,
     "metadata": {},
     "output_type": "execute_result"
    }
   ],
   "source": [
    "f"
   ]
  },
  {
   "cell_type": "code",
   "execution_count": 4,
   "metadata": {},
   "outputs": [
    {
     "name": "stdout",
     "output_type": "stream",
     "text": [
      "printing tree starting from index  0\n",
      "printing tree starting from index  1\n",
      "printing tree starting from index  2\n",
      "printing tree starting from index  4\n",
      "x2\n",
      "printing tree starting from index  5\n",
      "x3\n",
      "printing tree starting from index  3\n",
      "x1\n",
      "printing tree starting from index  1\n",
      "printing tree starting from index  2\n",
      "printing tree starting from index  4\n",
      "x2\n",
      "printing tree starting from index  5\n",
      "x3\n",
      "printing tree starting from index  3\n",
      "x1\n",
      "x + y  :  x2*x3+x1=x2*x3+x1\n"
     ]
    }
   ],
   "source": [
    "encode()"
   ]
  },
  {
   "cell_type": "code",
   "execution_count": null,
   "metadata": {
    "collapsed": true
   },
   "outputs": [],
   "source": []
  },
  {
   "cell_type": "code",
   "execution_count": null,
   "metadata": {
    "collapsed": true
   },
   "outputs": [],
   "source": []
  },
  {
   "cell_type": "code",
   "execution_count": null,
   "metadata": {
    "collapsed": true
   },
   "outputs": [],
   "source": []
  },
  {
   "cell_type": "code",
   "execution_count": null,
   "metadata": {
    "collapsed": true
   },
   "outputs": [],
   "source": []
  },
  {
   "cell_type": "code",
   "execution_count": null,
   "metadata": {
    "collapsed": true
   },
   "outputs": [],
   "source": []
  }
 ],
 "metadata": {
  "kernelspec": {
   "display_name": "Python 3",
   "language": "python",
   "name": "python3"
  },
  "language_info": {
   "codemirror_mode": {
    "name": "ipython",
    "version": 3
   },
   "file_extension": ".py",
   "mimetype": "text/x-python",
   "name": "python",
   "nbconvert_exporter": "python",
   "pygments_lexer": "ipython3",
   "version": "3.6.1"
  }
 },
 "nbformat": 4,
 "nbformat_minor": 2
}
