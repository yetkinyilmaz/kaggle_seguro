{
 "cells": [
  {
   "cell_type": "code",
   "execution_count": 1,
   "metadata": {
    "collapsed": true
   },
   "outputs": [],
   "source": [
    "from submissions.formulas.GenerateTrees import *"
   ]
  },
  {
   "cell_type": "code",
   "execution_count": null,
   "metadata": {
    "collapsed": true
   },
   "outputs": [],
   "source": []
  },
  {
   "cell_type": "code",
   "execution_count": null,
   "metadata": {
    "collapsed": true
   },
   "outputs": [],
   "source": []
  },
  {
   "cell_type": "code",
   "execution_count": 4,
   "metadata": {},
   "outputs": [
    {
     "name": "stdout",
     "output_type": "stream",
     "text": [
      "splitting node :  0\n",
      "splitting node :  1\n",
      "splitting node :  0\n",
      "splitting node :  3\n",
      "splitting node :  2\n",
      "splitting node :  1\n",
      "splitting node :  4\n",
      "splitting node :  5\n",
      "splitting node :  3\n",
      "splitting node :  12\n",
      "splitting node :  14\n",
      "splitting node :  15\n",
      "splitting node :  0\n",
      "splitting node :  15\n",
      "splitting node :  7\n",
      "splitting node :  16\n",
      "splitting node :  6\n",
      "splitting node :  8\n",
      "splitting node :  9\n",
      "splitting node :  10\n",
      "splitting node :  11\n",
      "splitting node :  13\n",
      "splitting node :  17\n",
      "splitting node :  18\n",
      "splitting node :  19\n",
      "splitting node :  20\n",
      "splitting node :  21\n",
      "splitting node :  22\n",
      "Adding feature :  (((((C[4]*X[:,5])*((C[5]*X[:,0])*(((C[6]*X[:,4])*(C[7]*X[:,2]))+((C[10]*X[:,2])-(C[11]*X[:,2])))))-(C[0]*X[:,3]))+((C[2]*X[:,5])*(C[3]*X[:,5])))*(((C[8]*X[:,3])*(C[9]*X[:,5]))-(C[1]*X[:,0])))\n"
     ]
    },
    {
     "data": {
      "text/plain": [
       "'(((((C[4]*X[:,5])*((C[5]*X[:,0])*(((C[6]*X[:,4])*(C[7]*X[:,2]))+((C[10]*X[:,2])-(C[11]*X[:,2])))))-(C[0]*X[:,3]))+((C[2]*X[:,5])*(C[3]*X[:,5])))*(((C[8]*X[:,3])*(C[9]*X[:,5]))-(C[1]*X[:,0])))'"
      ]
     },
     "execution_count": 4,
     "metadata": {},
     "output_type": "execute_result"
    }
   ],
   "source": [
    "generateSingleTree()"
   ]
  },
  {
   "cell_type": "code",
   "execution_count": null,
   "metadata": {
    "collapsed": true
   },
   "outputs": [],
   "source": []
  },
  {
   "cell_type": "code",
   "execution_count": null,
   "metadata": {
    "collapsed": true
   },
   "outputs": [],
   "source": []
  },
  {
   "cell_type": "code",
   "execution_count": null,
   "metadata": {
    "collapsed": true
   },
   "outputs": [],
   "source": []
  },
  {
   "cell_type": "code",
   "execution_count": null,
   "metadata": {
    "collapsed": true
   },
   "outputs": [],
   "source": []
  },
  {
   "cell_type": "code",
   "execution_count": null,
   "metadata": {
    "collapsed": true
   },
   "outputs": [],
   "source": []
  }
 ],
 "metadata": {
  "kernelspec": {
   "display_name": "Python 3",
   "language": "python",
   "name": "python3"
  },
  "language_info": {
   "codemirror_mode": {
    "name": "ipython",
    "version": 3
   },
   "file_extension": ".py",
   "mimetype": "text/x-python",
   "name": "python",
   "nbconvert_exporter": "python",
   "pygments_lexer": "ipython3",
   "version": "3.6.1"
  }
 },
 "nbformat": 4,
 "nbformat_minor": 2
}
