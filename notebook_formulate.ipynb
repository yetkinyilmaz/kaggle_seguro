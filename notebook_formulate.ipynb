{
 "cells": [
  {
   "cell_type": "code",
   "execution_count": 1,
   "metadata": {
    "collapsed": true
   },
   "outputs": [],
   "source": [
    "from submissions.formulas.GenerateTrees import *"
   ]
  },
  {
   "cell_type": "code",
   "execution_count": 2,
   "metadata": {},
   "outputs": [
    {
     "name": "stdout",
     "output_type": "stream",
     "text": [
      "Adding feature :  (((((C[3]*X[:,27])*X[:,25])*((((C[8]*X[:,20])+(C[9]*X[:,22]))-((C[1]*X[:,26])*(((C[5]*X[:,21])*X[:,28])-(C[4]*X[:,23]))))*(((C[6]*X[:,20])+(C[7]*X[:,23]))+(C[0]*X[:,29]))))*((C[2]*X[:,25])*X[:,28]))+C[10])\n"
     ]
    }
   ],
   "source": [
    "t = generateSingleTree(12)"
   ]
  },
  {
   "cell_type": "code",
   "execution_count": 3,
   "metadata": {},
   "outputs": [
    {
     "data": {
      "text/plain": [
       "'(((((C[3]*X[:,27])*X[:,25])*((((C[8]*X[:,20])+(C[9]*X[:,22]))-((C[1]*X[:,26])*(((C[5]*X[:,21])*X[:,28])-(C[4]*X[:,23]))))*(((C[6]*X[:,20])+(C[7]*X[:,23]))+(C[0]*X[:,29]))))*((C[2]*X[:,25])*X[:,28]))+C[10])'"
      ]
     },
     "execution_count": 3,
     "metadata": {},
     "output_type": "execute_result"
    }
   ],
   "source": [
    "t.print_tree()"
   ]
  },
  {
   "cell_type": "code",
   "execution_count": 10,
   "metadata": {},
   "outputs": [
    {
     "name": "stdout",
     "output_type": "stream",
     "text": [
      "Killing node :  11\n",
      "Killing node :  23\n",
      "Killing node :  24\n",
      "ids     ( 33 ) :  [  0.   1.   2.   3.   4.   5.   6.   7.   8.   9.  10.  11.  12.  13.  14.\n",
      "  15.  16.  17.  18.  19.  20.  21.  22.  25.  26.  27.  28.  29.  30.  31.\n",
      "  32.  33.  34.]\n",
      "new_ids ( 35 ) :  [ 0  1  2  3  4  5  6  7  8  9 10 11 12 13 14 15 16 17 18 19 20 21 22 23 24\n",
      " 25 26 27 28 29 30 31 32 33 34]\n",
      "node i :  0\n",
      "a :  33\n",
      "b :  1\n",
      "c :  2\n",
      "node i :  1\n",
      "a :  0\n",
      "b :  3\n",
      "c :  4\n",
      "node i :  2\n",
      "a :  0\n",
      "b :  13\n",
      "c :  14\n",
      "node i :  3\n",
      "a :  1\n",
      "b :  -1\n",
      "c :  -1\n",
      "node i :  4\n",
      "a :  1\n",
      "b :  5\n",
      "c :  6\n",
      "node i :  5\n",
      "a :  4\n",
      "b :  7\n",
      "c :  8\n",
      "node i :  6\n",
      "a :  4\n",
      "b :  9\n",
      "c :  10\n",
      "node i :  7\n",
      "a :  5\n",
      "b :  -1\n",
      "c :  -1\n",
      "node i :  8\n",
      "a :  5\n",
      "b :  11\n",
      "c :  12\n",
      "node i :  9\n",
      "a :  6\n",
      "b :  19\n",
      "c :  20\n",
      "node i :  10\n",
      "a :  6\n",
      "b :  21\n",
      "c :  22\n",
      "node i :  11\n",
      "a :  8\n",
      "b :  -1\n",
      "c :  -1\n",
      "node i :  12\n",
      "a :  8\n",
      "b :  15\n",
      "c :  16\n",
      "node i :  13\n",
      "a :  2\n",
      "b :  -1\n",
      "c :  -1\n",
      "node i :  14\n",
      "a :  2\n",
      "b :  -1\n",
      "c :  -1\n",
      "node i :  15\n",
      "a :  12\n",
      "b :  17\n",
      "c :  18\n",
      "node i :  16\n",
      "a :  12\n",
      "b :  25\n",
      "c :  26\n",
      "node i :  17\n",
      "a :  15\n",
      "b :  27\n",
      "c :  28\n",
      "node i :  18\n",
      "a :  15\n",
      "b :  -1\n",
      "c :  -1\n",
      "node i :  19\n",
      "a :  9\n",
      "b :  29\n",
      "c :  30\n",
      "node i :  20\n",
      "a :  9\n",
      "b :  31\n",
      "c :  32\n",
      "node i :  21\n",
      "a :  10\n",
      "b :  -1\n",
      "c :  -1\n",
      "node i :  22\n",
      "a :  10\n",
      "b :  -1\n",
      "c :  -1\n",
      "node i :  25\n",
      "a :  16\n",
      "b :  -1\n",
      "c :  -1\n",
      "node i :  26\n",
      "a :  16\n",
      "b :  -1\n",
      "c :  -1\n",
      "node i :  27\n",
      "a :  17\n",
      "b :  -1\n",
      "c :  -1\n",
      "node i :  28\n",
      "a :  17\n",
      "b :  -1\n",
      "c :  -1\n",
      "node i :  29\n",
      "a :  19\n",
      "b :  -1\n",
      "c :  -1\n",
      "node i :  30\n",
      "a :  19\n",
      "b :  -1\n",
      "c :  -1\n",
      "node i :  31\n",
      "a :  20\n",
      "b :  -1\n",
      "c :  -1\n",
      "node i :  32\n",
      "a :  20\n",
      "b :  -1\n",
      "c :  -1\n",
      "node i :  33\n",
      "a :  -1\n",
      "b :  0\n",
      "c :  34\n",
      "node i :  34\n",
      "a :  33\n",
      "b :  -1\n",
      "c :  -1\n"
     ]
    },
    {
     "data": {
      "text/plain": [
       "11"
      ]
     },
     "execution_count": 10,
     "metadata": {},
     "output_type": "execute_result"
    }
   ],
   "source": [
    "t.truncate_node(11)"
   ]
  },
  {
   "cell_type": "code",
   "execution_count": 11,
   "metadata": {},
   "outputs": [
    {
     "data": {
      "text/plain": [
       "'(((END*((END-(END*(((C[5]*X[:,21])*X[:,28])-(C[4]*X[:,23]))))*(((C[6]*X[:,20])+(C[7]*X[:,23]))+(C[0]*X[:,29]))))*(END*X[:,28]))+C[10])'"
      ]
     },
     "execution_count": 11,
     "metadata": {},
     "output_type": "execute_result"
    }
   ],
   "source": [
    "t.print_tree()"
   ]
  },
  {
   "cell_type": "code",
   "execution_count": null,
   "metadata": {
    "collapsed": true
   },
   "outputs": [],
   "source": []
  },
  {
   "cell_type": "code",
   "execution_count": null,
   "metadata": {
    "collapsed": true
   },
   "outputs": [],
   "source": []
  },
  {
   "cell_type": "code",
   "execution_count": null,
   "metadata": {
    "collapsed": true
   },
   "outputs": [],
   "source": []
  },
  {
   "cell_type": "code",
   "execution_count": 4,
   "metadata": {},
   "outputs": [],
   "source": [
    "t.replace_node(t.root,\"+\")"
   ]
  },
  {
   "cell_type": "code",
   "execution_count": null,
   "metadata": {
    "collapsed": true
   },
   "outputs": [],
   "source": []
  },
  {
   "cell_type": "code",
   "execution_count": null,
   "metadata": {
    "collapsed": true
   },
   "outputs": [],
   "source": []
  },
  {
   "cell_type": "code",
   "execution_count": null,
   "metadata": {
    "collapsed": true
   },
   "outputs": [],
   "source": []
  },
  {
   "cell_type": "code",
   "execution_count": null,
   "metadata": {
    "collapsed": true
   },
   "outputs": [],
   "source": []
  },
  {
   "cell_type": "code",
   "execution_count": 5,
   "metadata": {},
   "outputs": [
    {
     "data": {
      "text/plain": [
       "'((((C[2]*X[:,27])-(C[3]*X[:,20]))+((C[0]*X[:,23])-(C[1]*X[:,26])))+C[4])'"
      ]
     },
     "execution_count": 5,
     "metadata": {},
     "output_type": "execute_result"
    }
   ],
   "source": [
    "t.print_tree()"
   ]
  },
  {
   "cell_type": "code",
   "execution_count": null,
   "metadata": {
    "collapsed": true
   },
   "outputs": [],
   "source": []
  },
  {
   "cell_type": "code",
   "execution_count": 6,
   "metadata": {
    "collapsed": true
   },
   "outputs": [],
   "source": [
    "t.replace_node(0,\"+\")"
   ]
  },
  {
   "cell_type": "code",
   "execution_count": 7,
   "metadata": {},
   "outputs": [
    {
     "data": {
      "text/plain": [
       "'((((C[2]*X[:,27])-(C[3]*X[:,20]))+((C[0]*X[:,23])-(C[1]*X[:,26])))+C[4])'"
      ]
     },
     "execution_count": 7,
     "metadata": {},
     "output_type": "execute_result"
    }
   ],
   "source": [
    "t.print_tree()"
   ]
  },
  {
   "cell_type": "code",
   "execution_count": null,
   "metadata": {
    "collapsed": true
   },
   "outputs": [],
   "source": []
  },
  {
   "cell_type": "code",
   "execution_count": null,
   "metadata": {
    "collapsed": true
   },
   "outputs": [],
   "source": []
  },
  {
   "cell_type": "code",
   "execution_count": null,
   "metadata": {
    "collapsed": true
   },
   "outputs": [],
   "source": []
  },
  {
   "cell_type": "code",
   "execution_count": 8,
   "metadata": {},
   "outputs": [
    {
     "name": "stdout",
     "output_type": "stream",
     "text": [
      "Killing node :  1\n",
      "Killing node :  5\n",
      "Killing node :  11\n",
      "Killing node :  12\n",
      "Killing node :  6\n",
      "Killing node :  13\n",
      "Killing node :  14\n",
      "ids     ( 11 ) :  [  0.   1.   2.   3.   4.   7.   8.   9.  10.  15.  16.]\n",
      "new_ids ( 17 ) :  [ 0  1  2  3  4  5  6  7  8  9 10 11 12 13 14 15 16]\n",
      "node i :  0\n",
      "a :  15\n",
      "b :  1\n",
      "c :  2\n",
      "node i :  1\n",
      "a :  0\n",
      "b :  -1\n",
      "c :  -1\n",
      "node i :  2\n",
      "a :  0\n",
      "b :  3\n",
      "c :  4\n",
      "node i :  3\n",
      "a :  2\n",
      "b :  7\n",
      "c :  8\n",
      "node i :  4\n",
      "a :  2\n",
      "b :  9\n",
      "c :  10\n",
      "node i :  7\n",
      "a :  3\n",
      "b :  0\n",
      "c :  0\n",
      "node i :  8\n",
      "a :  3\n",
      "b :  0\n",
      "c :  0\n",
      "node i :  9\n",
      "a :  4\n",
      "b :  0\n",
      "c :  0\n",
      "node i :  10\n",
      "a :  4\n",
      "b :  0\n",
      "c :  0\n",
      "node i :  15\n",
      "a :  -1\n",
      "b :  0\n",
      "c :  16\n",
      "node i :  16\n",
      "a :  15\n",
      "b :  0\n",
      "c :  0\n"
     ]
    },
    {
     "data": {
      "text/plain": [
       "1"
      ]
     },
     "execution_count": 8,
     "metadata": {},
     "output_type": "execute_result"
    }
   ],
   "source": []
  },
  {
   "cell_type": "code",
   "execution_count": null,
   "metadata": {
    "collapsed": true
   },
   "outputs": [],
   "source": []
  },
  {
   "cell_type": "code",
   "execution_count": 9,
   "metadata": {},
   "outputs": [
    {
     "ename": "IndexError",
     "evalue": "index 15 is out of bounds for axis 0 with size 11",
     "output_type": "error",
     "traceback": [
      "\u001b[0;31m---------------------------------------------------------------------------\u001b[0m",
      "\u001b[0;31mIndexError\u001b[0m                                Traceback (most recent call last)",
      "\u001b[0;32m<ipython-input-9-26b9c6e86853>\u001b[0m in \u001b[0;36m<module>\u001b[0;34m()\u001b[0m\n\u001b[0;32m----> 1\u001b[0;31m \u001b[0mt\u001b[0m\u001b[0;34m.\u001b[0m\u001b[0mprint_tree\u001b[0m\u001b[0;34m(\u001b[0m\u001b[0;34m)\u001b[0m\u001b[0;34m\u001b[0m\u001b[0m\n\u001b[0m",
      "\u001b[0;32m/Users/yetkin/ramp/ramp-kits/kaggle_seguro/submissions/formulas/FormulaTree.py\u001b[0m in \u001b[0;36mprint_tree\u001b[0;34m(self, inode)\u001b[0m\n\u001b[1;32m     59\u001b[0m             \u001b[0mprint\u001b[0m\u001b[0;34m(\u001b[0m\u001b[0;34m\"printing tree starting from index \"\u001b[0m\u001b[0;34m,\u001b[0m \u001b[0minode\u001b[0m\u001b[0;34m)\u001b[0m\u001b[0;34m\u001b[0m\u001b[0m\n\u001b[1;32m     60\u001b[0m         \u001b[0mindex\u001b[0m \u001b[0;34m=\u001b[0m \u001b[0minode\u001b[0m\u001b[0;34m\u001b[0m\u001b[0m\n\u001b[0;32m---> 61\u001b[0;31m         \u001b[0mnode\u001b[0m \u001b[0;34m=\u001b[0m \u001b[0mself\u001b[0m\u001b[0;34m.\u001b[0m\u001b[0mnodes\u001b[0m\u001b[0;34m[\u001b[0m\u001b[0mindex\u001b[0m\u001b[0;34m]\u001b[0m\u001b[0;34m\u001b[0m\u001b[0m\n\u001b[0m\u001b[1;32m     62\u001b[0m         \u001b[0mstatus\u001b[0m \u001b[0;34m=\u001b[0m \u001b[0mnode\u001b[0m\u001b[0;34m.\u001b[0m\u001b[0mstatus\u001b[0m\u001b[0;34m\u001b[0m\u001b[0m\n\u001b[1;32m     63\u001b[0m         \u001b[0mtext\u001b[0m \u001b[0;34m=\u001b[0m \u001b[0;34m\"\"\u001b[0m\u001b[0;34m\u001b[0m\u001b[0m\n",
      "\u001b[0;31mIndexError\u001b[0m: index 15 is out of bounds for axis 0 with size 11"
     ]
    }
   ],
   "source": [
    "t.print_tree()"
   ]
  },
  {
   "cell_type": "code",
   "execution_count": null,
   "metadata": {
    "collapsed": true
   },
   "outputs": [],
   "source": []
  },
  {
   "cell_type": "code",
   "execution_count": null,
   "metadata": {
    "collapsed": true
   },
   "outputs": [],
   "source": []
  },
  {
   "cell_type": "code",
   "execution_count": null,
   "metadata": {
    "collapsed": true
   },
   "outputs": [],
   "source": []
  },
  {
   "cell_type": "code",
   "execution_count": null,
   "metadata": {
    "collapsed": true
   },
   "outputs": [],
   "source": []
  }
 ],
 "metadata": {
  "kernelspec": {
   "display_name": "Python 3",
   "language": "python",
   "name": "python3"
  },
  "language_info": {
   "codemirror_mode": {
    "name": "ipython",
    "version": 3
   },
   "file_extension": ".py",
   "mimetype": "text/x-python",
   "name": "python",
   "nbconvert_exporter": "python",
   "pygments_lexer": "ipython3",
   "version": "3.6.1"
  }
 },
 "nbformat": 4,
 "nbformat_minor": 2
}
